{
 "cells": [
  {
   "cell_type": "code",
   "execution_count": 1,
   "metadata": {},
   "outputs": [
    {
     "name": "stdout",
     "output_type": "stream",
     "text": [
      "['1MCA-A', '1MCA-B', '2MCA-A', '2MCA-B', '3MCA-A', '3MCA-B', '4MCA-A', '4MCA-B']\n",
      "1MCA-B\n",
      "['2MCA-B', '3MCA-A']\n",
      "4MCA-B\n",
      "['2MCA-B', '3MCA-A', '3MCA-B', '4MCA-A']\n",
      "['2MCA-B', '3MCA-A', '3MCA-B', '4MCA-A', '4MCA-B']\n",
      "['1MCA-A', '1MCA-B', '2MCA-A']\n",
      "Yes, '1MCA-B' is in the class list\n"
     ]
    }
   ],
   "source": [
    "listitems=[\"1MCA-A\",\"1MCA-B\",\"2MCA-A\",\"2MCA-B\",\"3MCA-A\",\"3MCA-B\",\"4MCA-A\",\"4MCA-B\"]\n",
    "print(listitems)\n",
    "print(listitems[1])\n",
    "print(listitems[3:5])\n",
    "print(listitems[-1])\n",
    "print(listitems[-5:-1])\n",
    "print(listitems[-5:])\n",
    "print(listitems[:-5])\n",
    "if \"1MCA-B\" in listitems:\n",
    "    print(\"Yes, '1MCA-B' is in the class list\")"
   ]
  },
  {
   "cell_type": "code",
   "execution_count": 1,
   "metadata": {},
   "outputs": [
    {
     "name": "stdout",
     "output_type": "stream",
     "text": [
      "['1MCA-A', '1MCA-B', '2MCA-A', '2MCA-B', '3MCA-A', '3MCA-B', '4MCA-A', '4MCA-B']\n",
      "['1MCA-A', '1MCA-B', 'New Class', '2MCA-B', '3MCA-A', '3MCA-B', '4MCA-A', '4MCA-B']\n"
     ]
    }
   ],
   "source": [
    "listitems=[\"1MCA-A\",\"1MCA-B\",\"2MCA-A\",\"2MCA-B\",\"3MCA-A\",\"3MCA-B\",\"4MCA-A\",\"4MCA-B\"]\n",
    "print(listitems)\n",
    "listitems[2]=\"New Class\"\n",
    "print(listitems)"
   ]
  }
 ],
 "metadata": {
  "kernelspec": {
   "display_name": "Python 3.10.7 64-bit (microsoft store)",
   "language": "python",
   "name": "python3"
  },
  "language_info": {
   "codemirror_mode": {
    "name": "ipython",
    "version": 3
   },
   "file_extension": ".py",
   "mimetype": "text/x-python",
   "name": "python",
   "nbconvert_exporter": "python",
   "pygments_lexer": "ipython3",
   "version": "3.10.9 (tags/v3.10.9:1dd9be6, Dec  6 2022, 20:01:21) [MSC v.1934 64 bit (AMD64)]"
  },
  "orig_nbformat": 4,
  "vscode": {
   "interpreter": {
    "hash": "47f3f72424daa5524080de032b7d53e6de63610297dddcfeb4e85e03f001eff9"
   }
  }
 },
 "nbformat": 4,
 "nbformat_minor": 2
}
