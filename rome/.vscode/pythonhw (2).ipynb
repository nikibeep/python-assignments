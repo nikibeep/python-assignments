{
 "cells": [
  {
   "cell_type": "code",
   "execution_count": 2,
   "metadata": {},
   "outputs": [
    {
     "name": "stdout",
     "output_type": "stream",
     "text": [
      "we are getting a ride\n",
      "ask your parnets for a ticket\n",
      "nice try kid!!!\n"
     ]
    }
   ],
   "source": [
    "def ferriswheel(age,money):\n",
    "    if(age >=15) and (money >=30):\n",
    "        return \"we are getting a ride\"\n",
    "    elif(age>=15) and (money<30):\n",
    "        return \"ask your parnets for a ticket\"\n",
    "    elif(age<15) and (money>=5):\n",
    "        return \"nice try kid!!!\"\n",
    "    else:\n",
    "        return \"You need to grow old \"\n",
    "print(ferriswheel(16,30))\n",
    "print(ferriswheel(16,25))\n",
    "print(ferriswheel(13,25))\n"
   ]
  },
  {
   "cell_type": "code",
   "execution_count": 3,
   "metadata": {},
   "outputs": [
    {
     "name": "stdout",
     "output_type": "stream",
     "text": [
      "60\n"
     ]
    }
   ],
   "source": [
    "d = {\n",
    "   'foo': 10,\n",
    "   'bar': 20,\n",
    "   'baz': 30\n",
    "}\n",
    "\n",
    "print(sum(d.values()))"
   ]
  },
  {
   "cell_type": "code",
   "execution_count": 4,
   "metadata": {},
   "outputs": [
    {
     "name": "stdout",
     "output_type": "stream",
     "text": [
      "********* TalkWithXia *********\n"
     ]
    }
   ],
   "source": [
    "#Question 1\n",
    "def  TalkWithXia(string):\n",
    "    flag=0\n",
    "    for ele in string:\n",
    "        if(ele.islower()):\n",
    "            flag=1\n",
    "    if(flag==0):\n",
    "        if(string[-1]=='?'):\n",
    "            print(\"Calm down, I know what I'm doing!\")\n",
    "        elif(string[-1]=='!'):\n",
    "            print(\"Whoa, chill out!\")\n",
    "        else:\n",
    "            print(\"Fine. Be that way!\")\n",
    "    else:\n",
    "        if(string[-1]=='?'):\n",
    "            print(\"Sure\")\n",
    "        elif(string[-1]=='!'):\n",
    "            print(\"Whatever\")\n",
    "        else:\n",
    "            print(\"Fine. Be that way!\")\n",
    "print(\"********* TalkWithXia *********\")\n",
    "string=input(\"Input: \")\n",
    "TalkWithXia(string)"
   ]
  },
  {
   "cell_type": "code",
   "execution_count": null,
   "metadata": {},
   "outputs": [],
   "source": [
    "#Question 2\n",
    "def AlphabetWar(string):\n",
    "    l_count=0\n",
    "    r_count=0\n",
    "    for letter in string:\n",
    "        if letter in l_dic.keys():\n",
    "            l_count+=l_dic[letter]\n",
    "        elif letter in r_dic.keys():\n",
    "            r_count+=r_dic[letter]\n",
    "    if(l_count>r_count):\n",
    "        print(\"Left side wins! by \",l_count-r_count)\n",
    "    elif(r_count>l_count):\n",
    "        print(\"Right side wins! by \",r_count-l_count)\n",
    "    else:\n",
    "        print(\"Let's fight again!\")\n",
    "        \n",
    "l_dic={'w':4,\n",
    "       'p':3,\n",
    "       'b':2,\n",
    "       's':1}\n",
    "r_dic={'m':4,\n",
    "       'q':3,\n",
    "       'd':2,\n",
    "       'z':1}\n",
    "print(\"*********** PYTHON GEEK ***********\")\n",
    "string=input(\"Enter the String of war: \")\n",
    "AlphabetWar(string)"
   ]
  },
  {
   "cell_type": "code",
   "execution_count": null,
   "metadata": {},
   "outputs": [
    {
     "name": "stdout",
     "output_type": "stream",
     "text": [
      "[[[8 1 5 9 8]\n",
      "  [9 4 3 0 3]\n",
      "  [5 0 2 3 8]\n",
      "  [1 3 3 3 7]]\n",
      "\n",
      " [[0 1 9 9 0]\n",
      "  [4 7 3 2 7]\n",
      "  [2 0 0 4 5]\n",
      "  [5 6 8 4 1]]\n",
      "\n",
      " [[4 9 8 1 1]\n",
      "  [7 9 9 3 6]\n",
      "  [7 2 0 3 5]\n",
      "  [9 4 4 6 4]]]\n",
      "x3 ndim: 3\n",
      "x3 shape: (3, 4, 5)\n",
      "x3 size: 60\n",
      "x3 itemsiz: 4 \n",
      "nbytes: 240 bytes\n"
     ]
    }
   ],
   "source": [
    "import numpy as np\n",
    "np.random.seed(0)\n",
    "x1=np.random.randint(10,size=6)\n",
    "x2=np.random.randint(10,size=(3,4))\n",
    "x3=np.random.randint(10,size=(3,4,5))\n",
    "print(x3)\n",
    "print(\"x3 ndim:\",x3.ndim)\n",
    "print(\"x3 shape:\",x3.shape)\n",
    "print(\"x3 size:\",x3.size)\n",
    "print(\"x3 itemsiz:\",x3.itemsize,\"\")\n",
    "print(\"nbytes:\",x3.nbytes,\"bytes\")"
   ]
  }
 ],
 "metadata": {
  "kernelspec": {
   "display_name": "Python 3.10.6 64-bit (windows store)",
   "language": "python",
   "name": "python3"
  },
  "language_info": {
   "codemirror_mode": {
    "name": "ipython",
    "version": 3
   },
   "file_extension": ".py",
   "mimetype": "text/x-python",
   "name": "python",
   "nbconvert_exporter": "python",
   "pygments_lexer": "ipython3",
   "version": "3.10.9"
  },
  "orig_nbformat": 4,
  "vscode": {
   "interpreter": {
    "hash": "47f3f72424daa5524080de032b7d53e6de63610297dddcfeb4e85e03f001eff9"
   }
  }
 },
 "nbformat": 4,
 "nbformat_minor": 2
}
